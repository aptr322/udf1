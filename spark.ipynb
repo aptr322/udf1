{
 "cells": [
  {
   "cell_type": "code",
   "execution_count": 1,
   "id": "f128637f-b35d-4274-a02f-0b59ff828f1a",
   "metadata": {},
   "outputs": [],
   "source": [
    "from pyspark.sql import SparkSession\n",
    "import pyspark.sql.functions as F\n",
    "import pyspark.sql.types as T\n",
    "from pyspark.sql.window import Window"
   ]
  },
  {
   "cell_type": "code",
   "execution_count": null,
   "id": "b8a52026-7085-4814-b48a-4e49012c1f35",
   "metadata": {},
   "outputs": [],
   "source": [
    "spark = SparkSession\\\n",
    "    .builder\\\n",
    "    .config(\"spark.driver.memory\", \"6g\")\\\n",
    "    .config(\"spark.jars\", \"target/scala-2.12/udf1-assembly-1.1.jar\")\\\n",
    "    .appName(\"url_normalize\")\\\n",
    "    .getOrCreate()\n",
    "\n",
    "spark.conf.set('spark.sql.caseSensitive', True)"
   ]
  },
  {
   "cell_type": "code",
   "execution_count": 4,
   "id": "3d2b0fbc-5811-4dbb-bfc6-62dcc03ef99c",
   "metadata": {},
   "outputs": [],
   "source": [
    "spark.udf.registerJavaFunction('url_normalize', 'url_normalize', T.StringType())"
   ]
  },
  {
   "cell_type": "code",
   "execution_count": 9,
   "id": "6133dcb1-b5cb-42f7-8ba6-c6aaac82fe2b",
   "metadata": {},
   "outputs": [
    {
     "name": "stdout",
     "output_type": "stream",
     "text": [
      "/Users/petrov/data/sovrn-us-hour/part-00000-0f30cbb7-fbb9-4fe6-a643-2582f878a635.c000.snappy.parquet\n"
     ]
    }
   ],
   "source": [
    "!ls ~/data/sovrn-us-hour/part-00000-0f30cbb7-fbb9-4fe6-a643-2582f878a635.c000.snappy.parquet"
   ]
  },
  {
   "cell_type": "code",
   "execution_count": 5,
   "id": "451af957-7f81-40a2-834a-67bb9338eac5",
   "metadata": {},
   "outputs": [],
   "source": [
    "df = spark.read.parquet('/Users/petrov/data/sovrn-us-hour/part-00000-0f30cbb7-fbb9-4fe6-a643-2582f878a635.c000.snappy.parquet')"
   ]
  },
  {
   "cell_type": "code",
   "execution_count": 9,
   "id": "37d49bcc-e889-4d5b-8be1-d3ba4f72e410",
   "metadata": {},
   "outputs": [
    {
     "name": "stdout",
     "output_type": "stream",
     "text": [
      "+---------------------------------------------------------------------------------------------------------------------------------------------------+\n",
      "|url_normalize(referer)                                                                                                                             |\n",
      "+---------------------------------------------------------------------------------------------------------------------------------------------------+\n",
      "|com.aol.welcomescreen.main.w                                                                                                                       |\n",
      "|com.golf                                                                                                                                           |\n",
      "|com.aol?ncid=crosssellusaolc00000003                                                                                                               |\n",
      "|com.nasdaq                                                                                                                                         |\n",
      "|com.pch/sweepstakes                                                                                                                                |\n",
      "|com.villages-news                                                                                                                                  |\n",
      "|com.calculatorsoup/calculators/construction/square-footage-calculator.php                                                                          |\n",
      "|com.elevenwarriors                                                                                                                                 |\n",
      "|com.mortgageafterlife                                                                                                                              |\n",
      "|com.cycletrader/BMW-R-1250-R/motorcycles-for-sale?make=BMW%7C2315626&model=R%201250%7C764977090&radius=10000&sort=distance&trim=R%7C62944&zip=79707|\n",
      "|com.123freecell                                                                                                                                    |\n",
      "|com.fox40/news/local-news                                                                                                                          |\n",
      "|com.quizdaily                                                                                                                                      |\n",
      "|com.boredpanda/sarcastic-quotes                                                                                                                    |\n",
      "|com.secrant/rant/sec-football                                                                                                                      |\n",
      "|com.fandom.myheroacademia/wiki/Enji_Todoroki                                                                                                       |\n",
      "|com.cheezburger/14124037/worst-adult-temper-tantrums-people-witnessed                                                                              |\n",
      "|com.aol/sports/did-joe-mixon-fumble-bengals-014747052.html                                                                                         |\n",
      "|com.yourdictionary.wordfinder                                                                                                                      |\n",
      "|com.yourdictionary.wordfinder                                                                                                                      |\n",
      "+---------------------------------------------------------------------------------------------------------------------------------------------------+\n",
      "only showing top 20 rows\n",
      "\n"
     ]
    }
   ],
   "source": [
    "df.filter(F.col('referer').startswith('https:')).selectExpr('url_normalize(referer)').show(20, False)"
   ]
  },
  {
   "cell_type": "code",
   "execution_count": null,
   "id": "4dc99997-5433-47d3-83b0-0d68b96244ce",
   "metadata": {},
   "outputs": [],
   "source": []
  }
 ],
 "metadata": {
  "kernelspec": {
   "display_name": "Python 3 (ipykernel)",
   "language": "python",
   "name": "python3"
  },
  "language_info": {
   "codemirror_mode": {
    "name": "ipython",
    "version": 3
   },
   "file_extension": ".py",
   "mimetype": "text/x-python",
   "name": "python",
   "nbconvert_exporter": "python",
   "pygments_lexer": "ipython3",
   "version": "3.9.12"
  }
 },
 "nbformat": 4,
 "nbformat_minor": 5
}
